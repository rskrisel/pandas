{
  "cells": [
    {
      "cell_type": "markdown",
      "metadata": {
        "id": "view-in-github",
        "colab_type": "text"
      },
      "source": [
        "<a href=\"https://colab.research.google.com/github/rskrisel/pandas/blob/main/Session_2_Student_Worksheet.ipynb\" target=\"_parent\"><img src=\"https://colab.research.google.com/assets/colab-badge.svg\" alt=\"Open In Colab\"/></a>"
      ]
    },
    {
      "cell_type": "markdown",
      "id": "46f07997",
      "metadata": {
        "id": "46f07997"
      },
      "source": [
        "# Session 2 — Student Worksheet (Pandas + Plotly)\n",
        "\n",
        "Work in small groups. Find a CSV dataset on GitHub, load it in Colab, and adapt commands from the workbook. Be ready to walk through your code at the end."
      ]
    },
    {
      "cell_type": "markdown",
      "id": "c85fd5d3",
      "metadata": {
        "id": "c85fd5d3"
      },
      "source": [
        "## Part 1 — Find a Dataset (GitHub)\n",
        "1. Go to https://github.com and search for a CSV dataset.\n",
        "   - Example keywords: `public policy csv`, `education data csv`, `climate csv`, `health csv`, `housing csv`.\n",
        "   - In the Code tab, filter for `.csv` files.\n",
        "2. Fork the repo to your account.\n",
        "3. Open the CSV → click **Raw** → copy the URL."
      ]
    },
    {
      "cell_type": "markdown",
      "id": "53ae3fca",
      "metadata": {
        "id": "53ae3fca"
      },
      "source": [
        "**Paste your raw CSV URL below**"
      ]
    },
    {
      "cell_type": "code",
      "execution_count": null,
      "id": "0ccaf265",
      "metadata": {
        "id": "0ccaf265"
      },
      "outputs": [],
      "source": [
        "csv_url = \"PASTE-RAW-CSV-URL-HERE\"\n",
        "csv_url"
      ]
    },
    {
      "cell_type": "markdown",
      "id": "e084a242",
      "metadata": {
        "id": "e084a242"
      },
      "source": [
        "## Part 2 — Load & Inspect"
      ]
    },
    {
      "cell_type": "code",
      "execution_count": null,
      "id": "077322fd",
      "metadata": {
        "id": "077322fd"
      },
      "outputs": [],
      "source": [
        "import pandas as pd\n",
        "\n",
        "df = pd.read_csv(csv_url)\n",
        "rows, cols = df.shape\n",
        "rows, cols"
      ]
    },
    {
      "cell_type": "markdown",
      "id": "28957e6e",
      "metadata": {
        "id": "28957e6e"
      },
      "source": [
        "**Q1.** How many rows and columns?\n",
        "\n",
        "Show the first 5 rows and info:"
      ]
    },
    {
      "cell_type": "code",
      "execution_count": null,
      "id": "a4869554",
      "metadata": {
        "id": "a4869554"
      },
      "outputs": [],
      "source": [
        "df.head()"
      ]
    },
    {
      "cell_type": "code",
      "execution_count": null,
      "id": "469e9071",
      "metadata": {
        "id": "469e9071"
      },
      "outputs": [],
      "source": [
        "df.info()"
      ]
    },
    {
      "cell_type": "markdown",
      "id": "10e0271b",
      "metadata": {
        "id": "10e0271b"
      },
      "source": [
        "## Part 3 — Explore & Clean"
      ]
    },
    {
      "cell_type": "markdown",
      "id": "451bc96e",
      "metadata": {
        "id": "451bc96e"
      },
      "source": [
        "Check types and missing values:"
      ]
    },
    {
      "cell_type": "code",
      "execution_count": null,
      "id": "71930441",
      "metadata": {
        "id": "71930441"
      },
      "outputs": [],
      "source": [
        "df.dtypes"
      ]
    },
    {
      "cell_type": "code",
      "execution_count": null,
      "id": "814f2786",
      "metadata": {
        "id": "814f2786"
      },
      "outputs": [],
      "source": [
        "df.isnull().sum().sort_values(ascending=False).head(10)"
      ]
    },
    {
      "cell_type": "markdown",
      "id": "cbbb7734",
      "metadata": {
        "id": "cbbb7734"
      },
      "source": [
        "Convert types where needed (examples):"
      ]
    },
    {
      "cell_type": "code",
      "execution_count": null,
      "id": "a8de0297",
      "metadata": {
        "id": "a8de0297"
      },
      "outputs": [],
      "source": [
        "# Example conversions (edit to match your columns)\n",
        "# df['date'] = pd.to_datetime(df['date'], errors='coerce')\n",
        "# df['amount'] = pd.to_numeric(df['amount'], errors='coerce')\n",
        "# df.dtypes"
      ]
    },
    {
      "cell_type": "markdown",
      "id": "5dc67571",
      "metadata": {
        "id": "5dc67571"
      },
      "source": [
        "Drop duplicates (if any):"
      ]
    },
    {
      "cell_type": "code",
      "execution_count": null,
      "id": "bafb47db",
      "metadata": {
        "id": "bafb47db"
      },
      "outputs": [],
      "source": [
        "before = len(df)\n",
        "df = df.drop_duplicates(keep='first')\n",
        "after = len(df)\n",
        "print('Dropped', before - after, 'duplicate rows')"
      ]
    },
    {
      "cell_type": "markdown",
      "id": "26f73bd1",
      "metadata": {
        "id": "26f73bd1"
      },
      "source": [
        "## Part 4 — Summarization\n",
        "Pick a **categorical** and a **numeric** column."
      ]
    },
    {
      "cell_type": "code",
      "execution_count": null,
      "id": "e96d4522",
      "metadata": {
        "id": "e96d4522"
      },
      "outputs": [],
      "source": [
        "# Replace with real column names\n",
        "category_col = 'REPLACE_ME'\n",
        "numeric_col = 'REPLACE_ME'\n",
        "\n",
        "by_cat = df.groupby(category_col)[numeric_col].sum().sort_values(ascending=False)\n",
        "by_cat.head(10)"
      ]
    },
    {
      "cell_type": "markdown",
      "id": "51277e70",
      "metadata": {
        "id": "51277e70"
      },
      "source": [
        "**Q2.** What are the top 5 categories by your numeric metric?\n",
        "\n",
        "Compute descriptive stats:"
      ]
    },
    {
      "cell_type": "code",
      "execution_count": null,
      "id": "a1750362",
      "metadata": {
        "id": "a1750362"
      },
      "outputs": [],
      "source": [
        "df[numeric_col].describe()"
      ]
    },
    {
      "cell_type": "markdown",
      "id": "e06e112e",
      "metadata": {
        "id": "e06e112e"
      },
      "source": [
        "## Part 5 — Visualization (Pandas + Plotly)"
      ]
    },
    {
      "cell_type": "code",
      "execution_count": null,
      "id": "d8f36175",
      "metadata": {
        "id": "d8f36175"
      },
      "outputs": [],
      "source": [
        "ax = by_cat.head(10).plot(kind='bar', figsize=(12,5), title=f'Top 10 {category_col}')"
      ]
    },
    {
      "cell_type": "markdown",
      "id": "7ebce100",
      "metadata": {
        "id": "7ebce100"
      },
      "source": [
        "Interactive Plotly Express charts:"
      ]
    },
    {
      "cell_type": "code",
      "execution_count": null,
      "id": "e1714419",
      "metadata": {
        "id": "e1714419"
      },
      "outputs": [],
      "source": [
        "import plotly.express as px\n",
        "\n",
        "bar_df = by_cat.head(10).reset_index()\n",
        "fig = px.bar(bar_df, x=category_col, y=numeric_col, title=f'Top 10 {category_col} (interactive)')\n",
        "fig.show()"
      ]
    },
    {
      "cell_type": "markdown",
      "id": "1fefd54f",
      "metadata": {
        "id": "1fefd54f"
      },
      "source": [
        "If you have a time column, make a line chart:"
      ]
    },
    {
      "cell_type": "code",
      "execution_count": null,
      "id": "8aa48077",
      "metadata": {
        "id": "8aa48077"
      },
      "outputs": [],
      "source": [
        "# time_col = 'REPLACE_ME'\n",
        "# ts = df.groupby(time_col)[numeric_col].sum().reset_index()\n",
        "# fig = px.line(ts, x=time_col, y=numeric_col, markers=True, title='Trend over time')\n",
        "# fig.show()"
      ]
    },
    {
      "cell_type": "markdown",
      "id": "6081bdff",
      "metadata": {
        "id": "6081bdff"
      },
      "source": [
        "Optional scatter between two numeric columns:"
      ]
    },
    {
      "cell_type": "code",
      "execution_count": null,
      "id": "f5312e3a",
      "metadata": {
        "id": "f5312e3a"
      },
      "outputs": [],
      "source": [
        "# x_col = 'REPLACE_ME'\n",
        "# y_col = 'REPLACE_ME'\n",
        "# fig = px.scatter(df, x=x_col, y=y_col, title=f'{x_col} vs {y_col}', trendline='ols')\n",
        "# fig.show()"
      ]
    },
    {
      "cell_type": "markdown",
      "id": "56b24958",
      "metadata": {
        "id": "56b24958"
      },
      "source": [
        "## Part 6 — Reflection\n",
        "- What needed adjusting when you switched datasets?\n",
        "- What was easier/harder vs the workbook?\n",
        "- What context/limitations should a policymaker know?"
      ]
    },
    {
      "cell_type": "markdown",
      "id": "757116ae",
      "metadata": {
        "id": "757116ae"
      },
      "source": [
        "## Deliverable — Teach-Back Checklist\n",
        "Be ready to show:\n",
        "1. Your dataset URL and why you chose it\n",
        "2. One wrangling step you did (type conversion, deduping, etc.)\n",
        "3. One summary table (`groupby`) and one chart\n",
        "4. One challenge and how you solved it"
      ]
    },
    {
      "cell_type": "markdown",
      "id": "5298d2b2",
      "metadata": {
        "id": "5298d2b2"
      },
      "source": [
        "## Stretch Challenges\n",
        "1. **Export** cleaned data to CSV and download.\n",
        "2. **Facet** an interactive Plotly chart by a category (`facet_col`).\n",
        "3. **Join** two CSVs from the same repo (`pd.merge`).\n",
        "4. **Publish** your notebook to GitHub with a short `README.md`."
      ]
    },
    {
      "cell_type": "code",
      "execution_count": null,
      "id": "32b20ea4",
      "metadata": {
        "id": "32b20ea4"
      },
      "outputs": [],
      "source": [
        "# Export CSV\n",
        "# df.to_csv('cleaned.csv', index=False)\n",
        "# from google.colab import files\n",
        "# files.download('cleaned.csv')"
      ]
    },
    {
      "cell_type": "code",
      "execution_count": null,
      "id": "35ee42ec",
      "metadata": {
        "id": "35ee42ec"
      },
      "outputs": [],
      "source": [
        "# Facet example\n",
        "# fig = px.bar(bar_df, x=category_col, y=numeric_col, facet_col=category_col, facet_col_wrap=5)\n",
        "# fig.show()"
      ]
    },
    {
      "cell_type": "code",
      "execution_count": null,
      "id": "8975aa02",
      "metadata": {
        "id": "8975aa02"
      },
      "outputs": [],
      "source": [
        "# Join example\n",
        "# other = pd.read_csv('PASTE-ANOTHER-CSV-URL')\n",
        "# merged = pd.merge(df, other, on='REPLACE_JOIN_KEY', how='inner')\n",
        "# merged.head()"
      ]
    }
  ],
  "metadata": {
    "colab": {
      "provenance": [],
      "include_colab_link": true
    }
  },
  "nbformat": 4,
  "nbformat_minor": 5
}