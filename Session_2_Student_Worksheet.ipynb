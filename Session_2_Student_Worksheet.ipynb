{
  "cells": [
    {
      "cell_type": "markdown",
      "metadata": {
        "id": "view-in-github",
        "colab_type": "text"
      },
      "source": [
        "<a href=\"https://colab.research.google.com/github/rskrisel/pandas/blob/main/Session_2_Student_Worksheet.ipynb\" target=\"_parent\"><img src=\"https://colab.research.google.com/assets/colab-badge.svg\" alt=\"Open In Colab\"/></a>"
      ]
    },
    {
      "cell_type": "markdown",
      "id": "b9dee076",
      "metadata": {
        "id": "b9dee076"
      },
      "source": [
        "# 📊 Session 2 — Student Worksheet (Pandas + Plotly)\n",
        "Work in small groups. Find a CSV dataset on GitHub, load it in Colab, and adapt commands from the workbook.\n",
        "Be ready to walk through your code at the end.\n"
      ]
    },
    {
      "cell_type": "markdown",
      "id": "7dda3b45",
      "metadata": {
        "id": "7dda3b45"
      },
      "source": [
        "## Part 1 — Find a Dataset (GitHub)"
      ]
    },
    {
      "cell_type": "code",
      "execution_count": null,
      "id": "7b27ef6b",
      "metadata": {
        "id": "7b27ef6b"
      },
      "outputs": [],
      "source": [
        "csv_url = \"PASTE-RAW-CSV-URL-HERE\"\n",
        "csv_url"
      ]
    },
    {
      "cell_type": "markdown",
      "id": "1b1a0708",
      "metadata": {
        "id": "1b1a0708"
      },
      "source": [
        "## Part 2 — Load & Inspect"
      ]
    },
    {
      "cell_type": "code",
      "execution_count": null,
      "id": "6a84b789",
      "metadata": {
        "id": "6a84b789"
      },
      "outputs": [],
      "source": [
        "import pandas as pd\n",
        "\n",
        "df = pd.read_csv(csv_url)\n",
        "rows, cols = df.shape\n",
        "rows, cols"
      ]
    },
    {
      "cell_type": "markdown",
      "id": "c751d4b8",
      "metadata": {
        "id": "c751d4b8"
      },
      "source": [
        "## Part 3 — Explore & Clean"
      ]
    },
    {
      "cell_type": "code",
      "execution_count": null,
      "id": "97429ed3",
      "metadata": {
        "id": "97429ed3"
      },
      "outputs": [],
      "source": [
        "df.dtypes\n",
        "\n",
        "df.isnull().sum().sort_values(ascending=False).head(10)"
      ]
    },
    {
      "cell_type": "markdown",
      "id": "077b776f",
      "metadata": {
        "id": "077b776f"
      },
      "source": [
        "## Part 4 — Summarization"
      ]
    },
    {
      "cell_type": "code",
      "execution_count": null,
      "id": "6ce9615d",
      "metadata": {
        "id": "6ce9615d"
      },
      "outputs": [],
      "source": [
        "category_col = 'REPLACE_ME'\n",
        "numeric_col = 'REPLACE_ME'\n",
        "\n",
        "by_cat = df.groupby(category_col)[numeric_col].sum().sort_values(ascending=False)\n",
        "by_cat.head(10)"
      ]
    },
    {
      "cell_type": "markdown",
      "id": "7fe8314d",
      "metadata": {
        "id": "7fe8314d"
      },
      "source": [
        "## Part 5 — Visualization (Pandas + Plotly)"
      ]
    },
    {
      "cell_type": "code",
      "execution_count": null,
      "id": "01a09b7e",
      "metadata": {
        "id": "01a09b7e"
      },
      "outputs": [],
      "source": [
        "import plotly.express as px\n",
        "\n",
        "bar_df = by_cat.head(10).reset_index()\n",
        "fig = px.bar(bar_df, x=category_col, y=numeric_col, title=f'Top 10 {category_col} (interactive)')\n",
        "fig.show()"
      ]
    },
    {
      "cell_type": "markdown",
      "id": "1047af9c",
      "metadata": {
        "id": "1047af9c"
      },
      "source": [
        "## Part 6 — Reflection\n",
        "- What needed adjusting when you switched datasets?\n",
        "- What was easier/harder vs the workbook?\n",
        "- What context/limitations should a policymaker know?\n"
      ]
    },
    {
      "cell_type": "markdown",
      "id": "04f6652a",
      "metadata": {
        "id": "04f6652a"
      },
      "source": [
        "## Part 7 — ⚡ Lightning Chart Demos — Teach-Out Instructions"
      ]
    },
    {
      "cell_type": "markdown",
      "id": "4fcf0096",
      "metadata": {
        "id": "4fcf0096"
      },
      "source": [
        "### What is a Lightning Demo?\n",
        "A **rapid-fire mini-presentation**: 2 minutes per group. Show **one chart** + **one insight**, not your whole notebook.\n",
        "\n",
        "### Demo Format (2 minutes)\n",
        "1. **Context (15 sec):** Dataset name + 1-sentence purpose.  \n",
        "2. **Chart + Insight (75–90 sec):** Show interactive Plotly chart; state one clear finding; name one wrangling step.  \n",
        "3. **Caveat or Next Step (15–30 sec):** One limitation OR next idea.  \n",
        "4. **Pass the mic (10 sec):** End with *“Any questions about our chart?”*\n",
        "\n",
        "### Unique Angles\n",
        "- Aggregation choice (sum vs mean, raw vs normalized).  \n",
        "- Data cleaning step (conversion, deduping).  \n",
        "- Encoding (bar vs line vs scatter).  \n",
        "- Interactivity (facet, hover, filter).  \n",
        "- Comparability (per capita vs raw counts).  \n",
        "- Temporal nuance (trend vs snapshot).  \n",
        "\n",
        "👉 If another group showed your angle, pick a different one.\n",
        "\n",
        "### Flow for the Day\n",
        "- Groups present **clustered by chart type** (bars, lines, scatter, other).  \n",
        "- Instructor summarizes similarities/differences after each cluster.  \n",
        "- 15 groups × 2 min = ~30 minutes + transitions = ~40 minutes.\n",
        "\n",
        "### Presenter Checklist\n",
        "- [ ] Dataset URL loads in Colab  \n",
        "- [ ] Columns chosen make sense  \n",
        "- [ ] One **interactive Plotly figure** with title + labels  \n",
        "- [ ] Insight stated in one sentence  \n",
        "- [ ] One cleaning step mentioned  \n",
        "\n",
        "### Audience Task\n",
        "After each cluster, jot 1 sentence:  \n",
        "- What was **similar** across charts?  \n",
        "- What was **different** (aggregation, encoding, interactivity)?  \n",
        "- Which chart best supported a **policy decision**—and why?\n",
        "\n",
        "---\n",
        "### Quick Rubric (3 pts)\n",
        "- **Clarity of claim (1 pt)**  \n",
        "- **Method fit (1 pt)**  \n",
        "- **Insight/caveat (1 pt)**  \n",
        "(Bonus +0.5 for meaningful interactivity)\n",
        "\n",
        "---\n",
        "### Minimal Code Patterns\n",
        "\n",
        "**Top-N bar:**\n",
        "```python\n",
        "bar_df = df.groupby(category_col)[numeric_col].sum().nlargest(10).reset_index()\n",
        "fig = px.bar(bar_df, x=category_col, y=numeric_col,\n",
        "             title=f\"Top 10 {category_col} by {numeric_col}\")\n",
        "fig.show()\n",
        "```\n",
        "\n",
        "**Time series:**\n",
        "```python\n",
        "ts = (df.groupby(time_col)[numeric_col]\n",
        "        .sum()\n",
        "        .reset_index()\n",
        "        .sort_values(time_col))\n",
        "fig = px.line(ts, x=time_col, y=numeric_col, markers=True,\n",
        "              title=f\"{numeric_col} over time\")\n",
        "fig.show()\n",
        "```\n",
        "\n",
        "**Scatter:**\n",
        "```python\n",
        "fig = px.scatter(df, x=x_col, y=y_col, trendline=\"ols\",\n",
        "                 title=f\"{y_col} vs {x_col}\")\n",
        "fig.show()\n",
        "```\n",
        "\n",
        "---"
      ]
    }
  ],
  "metadata": {
    "colab": {
      "provenance": [],
      "include_colab_link": true
    }
  },
  "nbformat": 4,
  "nbformat_minor": 5
}